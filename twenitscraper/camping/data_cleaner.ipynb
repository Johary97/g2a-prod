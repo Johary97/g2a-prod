{
 "cells": [
  {
   "cell_type": "code",
   "execution_count": 2,
   "metadata": {},
   "outputs": [],
   "source": [
    "import pandas as pd"
   ]
  },
  {
   "cell_type": "code",
   "execution_count": 2,
   "metadata": {},
   "outputs": [
    {
     "name": "stdout",
     "output_type": "stream",
     "text": [
      "17139\n"
     ]
    }
   ],
   "source": [
    "df = pd.read_csv('./data5.csv')\n",
    "df = df.loc[df['Nb Personnes'].isin(['4 Adultes','6 Adultes', '8 Adultes'])]\n",
    "print(len(df))\n",
    "df.to_csv('data.csv', index=False)"
   ]
  },
  {
   "cell_type": "code",
   "execution_count": 3,
   "metadata": {},
   "outputs": [
    {
     "data": {
      "text/plain": [
       "21915"
      ]
     },
     "execution_count": 3,
     "metadata": {},
     "output_type": "execute_result"
    }
   ],
   "source": [
    "len(pd.read_csv('./data5.csv'))\n"
   ]
  },
  {
   "cell_type": "code",
   "execution_count": 4,
   "metadata": {},
   "outputs": [],
   "source": [
    "saturdays = pd.bdate_range(start=\"2023/03/20\", end=\"2023/11/30\", freq=\"C\", weekmask=\"Sat\")\n",
    "saturdays = [date.to_pydatetime().strftime(\"%d/%m/%Y\") for date in saturdays]\n",
    "pd.DataFrame({'dates': saturdays}).to_excel('dates.xlsx')"
   ]
  },
  {
   "cell_type": "code",
   "execution_count": 10,
   "metadata": {},
   "outputs": [],
   "source": [
    "import pandas as pd\n",
    "\n",
    "\n",
    "df = pd.read_csv('./data/data.csv')\n",
    "cle = df['cle_station'].to_list()\n",
    "cle = [x.split('-')[-1] for x in cle]\n",
    "df['cle_station'] = cle\n",
    "df.to_csv('./data/clean.csv')"
   ]
  }
 ],
 "metadata": {
  "kernelspec": {
   "display_name": "Python 3",
   "language": "python",
   "name": "python3"
  },
  "language_info": {
   "codemirror_mode": {
    "name": "ipython",
    "version": 3
   },
   "file_extension": ".py",
   "mimetype": "text/x-python",
   "name": "python",
   "nbconvert_exporter": "python",
   "pygments_lexer": "ipython3",
   "version": "3.11.1"
  },
  "orig_nbformat": 4,
  "vscode": {
   "interpreter": {
    "hash": "5238573367df39f7286bb46f9ff5f08f63a01a80960060ce41e3c79b190280fa"
   }
  }
 },
 "nbformat": 4,
 "nbformat_minor": 2
}
