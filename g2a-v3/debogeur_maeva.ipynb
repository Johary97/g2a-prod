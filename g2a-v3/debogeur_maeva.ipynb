{
 "cells": [
  {
   "cell_type": "code",
   "execution_count": 1,
   "metadata": {},
   "outputs": [],
   "source": [
    "from bs4 import BeautifulSoup\n",
    "from selenium import webdriver\n",
    "from selenium.webdriver.common.by import By\n",
    "from selenium.webdriver.support.ui import WebDriverWait\n",
    "from selenium.common.exceptions import ElementNotVisibleException, ElementNotSelectableException\n",
    "from selenium.webdriver.support import expected_conditions as EC\n",
    "from webdriver_manager.chrome import ChromeDriverManager\n",
    "from selenium.webdriver.chrome.service import Service as ChromeService\n",
    "from unidecode import unidecode\n",
    "from urllib.parse import urlparse, parse_qs\n",
    "from datetime import datetime"
   ]
  },
  {
   "cell_type": "code",
   "execution_count": 2,
   "metadata": {},
   "outputs": [],
   "source": [
    "driver = webdriver.Chrome()"
   ]
  },
  {
   "cell_type": "code",
   "execution_count": 20,
   "metadata": {},
   "outputs": [],
   "source": [
    "driver.get(\"https://www.maeva.com/fr-fr/residence-pierre---vacances-les-combes_10790.html\")"
   ]
  },
  {
   "cell_type": "code",
   "execution_count": 21,
   "metadata": {},
   "outputs": [],
   "source": [
    "soupe = BeautifulSoup(driver.page_source)"
   ]
  },
  {
   "cell_type": "code",
   "execution_count": 31,
   "metadata": {},
   "outputs": [],
   "source": [
    "months = {\n",
    "    'jan':'01',\n",
    "    'fev':'02',\n",
    "    'mars':'03',\n",
    "    'avr':'04',\n",
    "    'mai':'05',\n",
    "    'juin':'06',\n",
    "    'juil':'07',\n",
    "    'aout':'08',\n",
    "    'sept':'09',\n",
    "    'oct':'10',\n",
    "    'nov':'11',\n",
    "    'dec':'12'\n",
    "}"
   ]
  },
  {
   "cell_type": "code",
   "execution_count": 22,
   "metadata": {},
   "outputs": [],
   "source": [
    "toasts = soupe.find('div', {'id':'fiche-seo-toaster-anchor'}).find_all(\n",
    "            'div', {'class':'toaster fiche-bloc-produit-item-b cursor-auto w100'})"
   ]
  },
  {
   "cell_type": "code",
   "execution_count": 23,
   "metadata": {},
   "outputs": [
    {
     "data": {
      "text/plain": [
       "3"
      ]
     },
     "execution_count": 23,
     "metadata": {},
     "output_type": "execute_result"
    }
   ],
   "source": [
    "len(toasts)"
   ]
  },
  {
   "cell_type": "code",
   "execution_count": 24,
   "metadata": {},
   "outputs": [
    {
     "data": {
      "text/plain": [
       "'332'"
      ]
     },
     "execution_count": 24,
     "metadata": {},
     "output_type": "execute_result"
    }
   ],
   "source": [
    "toasts[0].find('span', {'class':'price_item_final'}).find('span').text.strip()[:-1]"
   ]
  },
  {
   "cell_type": "code",
   "execution_count": 25,
   "metadata": {},
   "outputs": [],
   "source": [
    "def extract():\n",
    "\n",
    "    def link_params(url):\n",
    "        url_params = parse_qs(urlparse(url).query)\n",
    "        sep = '/'\n",
    "        try:\n",
    "            n_offre = ''.join(url_params['id'][0].split('-')[::-1])\n",
    "            start_date = sep.join(\n",
    "                url_params['date_debut'][0].split('-')[::-1])\n",
    "            end_date = sep.join(url_params['date_fin'][0].split('-')[::-1])\n",
    "            return n_offre, start_date, end_date\n",
    "        except KeyError as e:\n",
    "            print(e)\n",
    "            return\n",
    "\n",
    "    data = []\n",
    "\n",
    "    soupe = BeautifulSoup(driver.page_source, 'lxml')\n",
    "\n",
    "    if soupe.find('div', class_='fiche-seo-toaster-container'):\n",
    "        toasters = soupe.find('div', {'id':'fiche-seo-toaster-anchor'}).find_all('div', {'class':'toaster fiche-bloc-produit-item-b cursor-auto w100'}) \\\n",
    "        if soupe.find('div', {'id':'fiche-seo-toaster-anchor'}).find_all('div', {'class':'toaster fiche-bloc-produit-item-b cursor-auto w100'}) else []\n",
    "        residence = soupe.find('h1', {\"id\": \"fiche-produit-residence-libelle\"}).text.strip() \\\n",
    "            if soupe.find('h1', {\"id\": \"fiche-produit-residence-libelle\"}) else ''\n",
    "        localisation = soupe.find('button', {\"id\": \"fiche-produit-localisation\"}).find('span', class_='fs-5').text.strip() \\\n",
    "            if soupe.find('button', {\"id\": \"fiche-produit-localisation\"}) else ''\n",
    "\n",
    "        breadcrumbs = []\n",
    "        \n",
    "        try:\n",
    "            breadcrumbs = soupe.find(\n",
    "                'ol', {'id': 'ui-ariane'}).find_all('li', {'itemprop': 'itemListElement'})\n",
    "        except:\n",
    "            breadcrumbs = soupe.find(\n",
    "                'nav', {'id': 'ui-ariane'}).find_all('div', {'itemprop': 'itemListElement'})\n",
    "\n",
    "        # station_breadcrumb = breadcrumbs[-2:-1][0].find('a', class_='ariane-item') if breadcrumbs[-2:-1][0].find('a', class_='ariane-item') else ''\n",
    "        # station_name = localisation\n",
    "        # station_key = station_breadcrumb['href'].split(',')[1].replace('.html', '') if station_breadcrumb != '' else ''\n",
    "\n",
    "        # if not station_key:\n",
    "        #     station_key = self.stations[station_name.upper()] if station_name.upper() in self.stations.keys() else ''\n",
    "        #     print(station_name, ' => ', station_key)\n",
    "\n",
    "        for toaster in toasters:\n",
    "            is_disponible = False if toaster.find(\n",
    "                'div', {'id': 'toaster-right-date'}).find('div', class_='font-logement-disabled') else True\n",
    "\n",
    "            if is_disponible:\n",
    "                dat = {}\n",
    "\n",
    "                typologie = toaster.find('div', class_=\"toaster-residence-libelle-container\").text.strip() \\\n",
    "                    if toaster.find('div', class_='toaster-residence-libelle-container') else ''\n",
    "                prix_actuel = toaster.find('span', {'class':'price_item_final'}).find('span').text.strip()[:-1] \\\n",
    "                     if toaster.find('span', {'class':'price_item_final'}).find('span') else 0.00\n",
    "                prix_init = toaster.find('span', {'class':'price_item_barre'}).text.strip()[:-1] \\\n",
    "                    if toaster.find('span', {'class':'price_item_barre'}) else prix_actuel\n",
    "                link = 'www.maeva.com' + toaster.find(\"div\", class_=\"toaster-right-cta\").find(\"a\", href=True)['href'] \\\n",
    "                    if toaster.find(\"div\", class_=\"toaster-right-cta\") else ''\n",
    "\n",
    "                n_offres, date_debut, date_fin = link_params(link)\n",
    "                dat['web-scrapper-order'] = ''\n",
    "                dat['date_debut'] = date_debut\n",
    "                dat['date_fin'] = date_fin\n",
    "                dat['prix_init'] = prix_init\n",
    "                dat['prix_actuel'] = prix_actuel\n",
    "                dat['typologie'] = typologie\n",
    "                dat['n_offre'] = n_offres\n",
    "                dat['nom'] = residence\n",
    "                dat['localite'] = localisation\n",
    "                dat['date_debut-jour'] = ''\n",
    "                dat['Nb semaines'] = datetime.strptime(\n",
    "                    date_debut, '%d/%m/%Y').isocalendar()[1]\n",
    "                dat['url'] = driver.current_url\n",
    "\n",
    "                data.append(dat)\n",
    "                print(data)\n"
   ]
  },
  {
   "cell_type": "code",
   "execution_count": 26,
   "metadata": {},
   "outputs": [
    {
     "name": "stdout",
     "output_type": "stream",
     "text": [
      "[{'web-scrapper-order': '', 'date_debut': '29/06/2024', 'date_fin': '05/07/2024', 'prix_init': '332', 'prix_actuel': 0.0, 'typologie': 'Studio 3 personnes', 'n_offre': '45975', 'nom': 'Résidence Pierre & Vacances Les Combes', 'localite': 'Les Ménuires', 'date_debut-jour': '', 'Nb semaines': 26, 'url': 'https://www.maeva.com/fr-fr/residence-pierre---vacances-les-combes_10790.html'}]\n",
      "[{'web-scrapper-order': '', 'date_debut': '29/06/2024', 'date_fin': '05/07/2024', 'prix_init': '332', 'prix_actuel': 0.0, 'typologie': 'Studio 3 personnes', 'n_offre': '45975', 'nom': 'Résidence Pierre & Vacances Les Combes', 'localite': 'Les Ménuires', 'date_debut-jour': '', 'Nb semaines': 26, 'url': 'https://www.maeva.com/fr-fr/residence-pierre---vacances-les-combes_10790.html'}, {'web-scrapper-order': '', 'date_debut': '30/03/2024', 'date_fin': '05/04/2024', 'prix_init': '677', 'prix_actuel': 0.0, 'typologie': 'Appartement 5 personnes - 1 chambre', 'n_offre': '45976', 'nom': 'Résidence Pierre & Vacances Les Combes', 'localite': 'Les Ménuires', 'date_debut-jour': '', 'Nb semaines': 13, 'url': 'https://www.maeva.com/fr-fr/residence-pierre---vacances-les-combes_10790.html'}]\n",
      "[{'web-scrapper-order': '', 'date_debut': '29/06/2024', 'date_fin': '05/07/2024', 'prix_init': '332', 'prix_actuel': 0.0, 'typologie': 'Studio 3 personnes', 'n_offre': '45975', 'nom': 'Résidence Pierre & Vacances Les Combes', 'localite': 'Les Ménuires', 'date_debut-jour': '', 'Nb semaines': 26, 'url': 'https://www.maeva.com/fr-fr/residence-pierre---vacances-les-combes_10790.html'}, {'web-scrapper-order': '', 'date_debut': '30/03/2024', 'date_fin': '05/04/2024', 'prix_init': '677', 'prix_actuel': 0.0, 'typologie': 'Appartement 5 personnes - 1 chambre', 'n_offre': '45976', 'nom': 'Résidence Pierre & Vacances Les Combes', 'localite': 'Les Ménuires', 'date_debut-jour': '', 'Nb semaines': 13, 'url': 'https://www.maeva.com/fr-fr/residence-pierre---vacances-les-combes_10790.html'}, {'web-scrapper-order': '', 'date_debut': '06/04/2024', 'date_fin': '12/04/2024', 'prix_init': '866', 'prix_actuel': 0.0, 'typologie': 'Appartement 6 personnes - 2 chambres', 'n_offre': '45977', 'nom': 'Résidence Pierre & Vacances Les Combes', 'localite': 'Les Ménuires', 'date_debut-jour': '', 'Nb semaines': 14, 'url': 'https://www.maeva.com/fr-fr/residence-pierre---vacances-les-combes_10790.html'}]\n"
     ]
    }
   ],
   "source": [
    "extract()"
   ]
  }
 ],
 "metadata": {
  "kernelspec": {
   "display_name": "Python 3",
   "language": "python",
   "name": "python3"
  },
  "language_info": {
   "codemirror_mode": {
    "name": "ipython",
    "version": 3
   },
   "file_extension": ".py",
   "mimetype": "text/x-python",
   "name": "python",
   "nbconvert_exporter": "python",
   "pygments_lexer": "ipython3",
   "version": "3.11.3"
  }
 },
 "nbformat": 4,
 "nbformat_minor": 2
}
